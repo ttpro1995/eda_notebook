{
 "cells": [
  {
   "cell_type": "code",
   "execution_count": 3,
   "metadata": {},
   "outputs": [],
   "source": [
    "import plotly.graph_objects as go\n",
    "from plotly.subplots import make_subplots\n",
    "import pandas as pd\n",
    "import re\n",
    "import plotly.express as px"
   ]
  },
  {
   "cell_type": "code",
   "execution_count": 4,
   "metadata": {},
   "outputs": [],
   "source": [
    "df = pd.read_csv(\"https://raw.githubusercontent.com/plotly/datasets/master/Mining-BTC-180.csv\")\n",
    "\n",
    "# for i, row in enumerate(df[\"Date\"]):\n",
    "#     p = re.compile(\" 00:00:00\")\n",
    "#     datetime = p.split(df[\"Date\"][i])[0]\n",
    "#     df.iloc[i, 1] = datetime\n",
    "\n",
    "# fig = make_subplots(\n",
    "#     rows=3, cols=1,\n",
    "#     shared_xaxes=True,\n",
    "#     vertical_spacing=0.03,\n",
    "#     specs=[[{\"type\": \"table\"}],\n",
    "#            [{\"type\": \"scatter\"}],\n",
    "#            [{\"type\": \"scatter\"}]]\n",
    "# )"
   ]
  },
  {
   "cell_type": "code",
   "execution_count": 5,
   "metadata": {},
   "outputs": [
    {
     "data": {
      "text/html": [
       "<div>\n",
       "<style scoped>\n",
       "    .dataframe tbody tr th:only-of-type {\n",
       "        vertical-align: middle;\n",
       "    }\n",
       "\n",
       "    .dataframe tbody tr th {\n",
       "        vertical-align: top;\n",
       "    }\n",
       "\n",
       "    .dataframe thead th {\n",
       "        text-align: right;\n",
       "    }\n",
       "</style>\n",
       "<table border=\"1\" class=\"dataframe\">\n",
       "  <thead>\n",
       "    <tr style=\"text-align: right;\">\n",
       "      <th></th>\n",
       "      <th>Unnamed: 0</th>\n",
       "      <th>Date</th>\n",
       "      <th>Number-transactions</th>\n",
       "      <th>Output-volume(BTC)</th>\n",
       "      <th>Market-price</th>\n",
       "      <th>Hash-rate</th>\n",
       "      <th>Cost-per-trans-USD</th>\n",
       "      <th>Mining-revenue-USD</th>\n",
       "      <th>Transaction-fees-BTC</th>\n",
       "    </tr>\n",
       "  </thead>\n",
       "  <tbody>\n",
       "    <tr>\n",
       "      <th>0</th>\n",
       "      <td>0</td>\n",
       "      <td>2017-04-29 00:00:00</td>\n",
       "      <td>341319</td>\n",
       "      <td>4488916</td>\n",
       "      <td>3119179</td>\n",
       "      <td>4488916</td>\n",
       "      <td>9</td>\n",
       "      <td>3119179</td>\n",
       "      <td>256</td>\n",
       "    </tr>\n",
       "    <tr>\n",
       "      <th>1</th>\n",
       "      <td>1</td>\n",
       "      <td>2017-04-30 00:00:00</td>\n",
       "      <td>281489</td>\n",
       "      <td>3918072</td>\n",
       "      <td>2720216</td>\n",
       "      <td>3918072</td>\n",
       "      <td>10</td>\n",
       "      <td>2720216</td>\n",
       "      <td>199</td>\n",
       "    </tr>\n",
       "    <tr>\n",
       "      <th>2</th>\n",
       "      <td>2</td>\n",
       "      <td>2017-05-01 00:00:00</td>\n",
       "      <td>294786</td>\n",
       "      <td>3892124</td>\n",
       "      <td>2878278</td>\n",
       "      <td>3892124</td>\n",
       "      <td>10</td>\n",
       "      <td>2878278</td>\n",
       "      <td>228</td>\n",
       "    </tr>\n",
       "    <tr>\n",
       "      <th>3</th>\n",
       "      <td>3</td>\n",
       "      <td>2017-05-02 00:00:00</td>\n",
       "      <td>333161</td>\n",
       "      <td>4099704</td>\n",
       "      <td>3149553</td>\n",
       "      <td>4099704</td>\n",
       "      <td>10</td>\n",
       "      <td>3149553</td>\n",
       "      <td>273</td>\n",
       "    </tr>\n",
       "    <tr>\n",
       "      <th>4</th>\n",
       "      <td>4</td>\n",
       "      <td>2017-05-03 00:00:00</td>\n",
       "      <td>295149</td>\n",
       "      <td>3425069</td>\n",
       "      <td>2760373</td>\n",
       "      <td>3425069</td>\n",
       "      <td>10</td>\n",
       "      <td>2760373</td>\n",
       "      <td>247</td>\n",
       "    </tr>\n",
       "    <tr>\n",
       "      <th>5</th>\n",
       "      <td>5</td>\n",
       "      <td>2017-05-04 00:00:00</td>\n",
       "      <td>354737</td>\n",
       "      <td>4359179</td>\n",
       "      <td>3500746</td>\n",
       "      <td>4359179</td>\n",
       "      <td>10</td>\n",
       "      <td>3500746</td>\n",
       "      <td>307</td>\n",
       "    </tr>\n",
       "    <tr>\n",
       "      <th>6</th>\n",
       "      <td>6</td>\n",
       "      <td>2017-05-05 00:00:00</td>\n",
       "      <td>267193</td>\n",
       "      <td>3347227</td>\n",
       "      <td>2779170</td>\n",
       "      <td>3347227</td>\n",
       "      <td>11</td>\n",
       "      <td>2779170</td>\n",
       "      <td>261</td>\n",
       "    </tr>\n",
       "    <tr>\n",
       "      <th>7</th>\n",
       "      <td>7</td>\n",
       "      <td>2017-05-06 00:00:00</td>\n",
       "      <td>363022</td>\n",
       "      <td>4359179</td>\n",
       "      <td>3610789</td>\n",
       "      <td>4359179</td>\n",
       "      <td>10</td>\n",
       "      <td>3610789</td>\n",
       "      <td>297</td>\n",
       "    </tr>\n",
       "    <tr>\n",
       "      <th>8</th>\n",
       "      <td>8</td>\n",
       "      <td>2017-05-07 00:00:00</td>\n",
       "      <td>316011</td>\n",
       "      <td>4333232</td>\n",
       "      <td>3505620</td>\n",
       "      <td>4333232</td>\n",
       "      <td>11</td>\n",
       "      <td>3505620</td>\n",
       "      <td>277</td>\n",
       "    </tr>\n",
       "    <tr>\n",
       "      <th>9</th>\n",
       "      <td>9</td>\n",
       "      <td>2017-05-08 00:00:00</td>\n",
       "      <td>365096</td>\n",
       "      <td>4670549</td>\n",
       "      <td>4062173</td>\n",
       "      <td>4670549</td>\n",
       "      <td>12</td>\n",
       "      <td>4062173</td>\n",
       "      <td>316</td>\n",
       "    </tr>\n",
       "    <tr>\n",
       "      <th>10</th>\n",
       "      <td>10</td>\n",
       "      <td>2017-05-09 00:00:00</td>\n",
       "      <td>332879</td>\n",
       "      <td>4021862</td>\n",
       "      <td>3715394</td>\n",
       "      <td>4021862</td>\n",
       "      <td>12</td>\n",
       "      <td>3715394</td>\n",
       "      <td>303</td>\n",
       "    </tr>\n",
       "    <tr>\n",
       "      <th>11</th>\n",
       "      <td>11</td>\n",
       "      <td>2017-05-10 00:00:00</td>\n",
       "      <td>311391</td>\n",
       "      <td>4119773</td>\n",
       "      <td>3665041</td>\n",
       "      <td>4119773</td>\n",
       "      <td>12</td>\n",
       "      <td>3665041</td>\n",
       "      <td>303</td>\n",
       "    </tr>\n",
       "    <tr>\n",
       "      <th>12</th>\n",
       "      <td>12</td>\n",
       "      <td>2017-05-11 00:00:00</td>\n",
       "      <td>294743</td>\n",
       "      <td>3757901</td>\n",
       "      <td>3468077</td>\n",
       "      <td>3757901</td>\n",
       "      <td>12</td>\n",
       "      <td>3468077</td>\n",
       "      <td>280</td>\n",
       "    </tr>\n",
       "    <tr>\n",
       "      <th>13</th>\n",
       "      <td>13</td>\n",
       "      <td>2017-05-12 00:00:00</td>\n",
       "      <td>317698</td>\n",
       "      <td>4286791</td>\n",
       "      <td>3731718</td>\n",
       "      <td>4286791</td>\n",
       "      <td>12</td>\n",
       "      <td>3731718</td>\n",
       "      <td>322</td>\n",
       "    </tr>\n",
       "    <tr>\n",
       "      <th>14</th>\n",
       "      <td>14</td>\n",
       "      <td>2017-05-13 00:00:00</td>\n",
       "      <td>329266</td>\n",
       "      <td>4398136</td>\n",
       "      <td>3885821</td>\n",
       "      <td>4398136</td>\n",
       "      <td>12</td>\n",
       "      <td>3885821</td>\n",
       "      <td>301</td>\n",
       "    </tr>\n",
       "    <tr>\n",
       "      <th>15</th>\n",
       "      <td>15</td>\n",
       "      <td>2017-05-14 00:00:00</td>\n",
       "      <td>369098</td>\n",
       "      <td>4565154</td>\n",
       "      <td>4018028</td>\n",
       "      <td>4565154</td>\n",
       "      <td>11</td>\n",
       "      <td>4018028</td>\n",
       "      <td>297</td>\n",
       "    </tr>\n",
       "    <tr>\n",
       "      <th>16</th>\n",
       "      <td>16</td>\n",
       "      <td>2017-05-15 00:00:00</td>\n",
       "      <td>329229</td>\n",
       "      <td>4732172</td>\n",
       "      <td>4090703</td>\n",
       "      <td>4732172</td>\n",
       "      <td>13</td>\n",
       "      <td>4090703</td>\n",
       "      <td>327</td>\n",
       "    </tr>\n",
       "    <tr>\n",
       "      <th>17</th>\n",
       "      <td>17</td>\n",
       "      <td>2017-05-16 00:00:00</td>\n",
       "      <td>233977</td>\n",
       "      <td>3674392</td>\n",
       "      <td>3356332</td>\n",
       "      <td>3674392</td>\n",
       "      <td>15</td>\n",
       "      <td>3356332</td>\n",
       "      <td>343</td>\n",
       "    </tr>\n",
       "    <tr>\n",
       "      <th>18</th>\n",
       "      <td>18</td>\n",
       "      <td>2017-05-17 00:00:00</td>\n",
       "      <td>317527</td>\n",
       "      <td>4314627</td>\n",
       "      <td>4241264</td>\n",
       "      <td>4314627</td>\n",
       "      <td>14</td>\n",
       "      <td>4241264</td>\n",
       "      <td>486</td>\n",
       "    </tr>\n",
       "    <tr>\n",
       "      <th>19</th>\n",
       "      <td>19</td>\n",
       "      <td>2017-05-18 00:00:00</td>\n",
       "      <td>288904</td>\n",
       "      <td>3952755</td>\n",
       "      <td>3986175</td>\n",
       "      <td>3952755</td>\n",
       "      <td>14</td>\n",
       "      <td>3986175</td>\n",
       "      <td>392</td>\n",
       "    </tr>\n",
       "    <tr>\n",
       "      <th>20</th>\n",
       "      <td>20</td>\n",
       "      <td>2017-05-19 00:00:00</td>\n",
       "      <td>319502</td>\n",
       "      <td>4565154</td>\n",
       "      <td>4746880</td>\n",
       "      <td>4565154</td>\n",
       "      <td>15</td>\n",
       "      <td>4746880</td>\n",
       "      <td>443</td>\n",
       "    </tr>\n",
       "    <tr>\n",
       "      <th>21</th>\n",
       "      <td>21</td>\n",
       "      <td>2017-05-20 00:00:00</td>\n",
       "      <td>352805</td>\n",
       "      <td>4592990</td>\n",
       "      <td>4862317</td>\n",
       "      <td>4592990</td>\n",
       "      <td>14</td>\n",
       "      <td>4862317</td>\n",
       "      <td>388</td>\n",
       "    </tr>\n",
       "    <tr>\n",
       "      <th>22</th>\n",
       "      <td>22</td>\n",
       "      <td>2017-05-21 00:00:00</td>\n",
       "      <td>326057</td>\n",
       "      <td>4091937</td>\n",
       "      <td>4331490</td>\n",
       "      <td>4091937</td>\n",
       "      <td>14</td>\n",
       "      <td>4331490</td>\n",
       "      <td>353</td>\n",
       "    </tr>\n",
       "    <tr>\n",
       "      <th>23</th>\n",
       "      <td>23</td>\n",
       "      <td>2017-05-22 00:00:00</td>\n",
       "      <td>327868</td>\n",
       "      <td>4064100</td>\n",
       "      <td>4499105</td>\n",
       "      <td>4064100</td>\n",
       "      <td>14</td>\n",
       "      <td>4499105</td>\n",
       "      <td>407</td>\n",
       "    </tr>\n",
       "    <tr>\n",
       "      <th>24</th>\n",
       "      <td>24</td>\n",
       "      <td>2017-05-23 00:00:00</td>\n",
       "      <td>367710</td>\n",
       "      <td>4976738</td>\n",
       "      <td>5668946</td>\n",
       "      <td>4976738</td>\n",
       "      <td>16</td>\n",
       "      <td>5668946</td>\n",
       "      <td>468</td>\n",
       "    </tr>\n",
       "    <tr>\n",
       "      <th>25</th>\n",
       "      <td>25</td>\n",
       "      <td>2017-05-24 00:00:00</td>\n",
       "      <td>338642</td>\n",
       "      <td>4562010</td>\n",
       "      <td>5524488</td>\n",
       "      <td>4562010</td>\n",
       "      <td>17</td>\n",
       "      <td>5524488</td>\n",
       "      <td>473</td>\n",
       "    </tr>\n",
       "    <tr>\n",
       "      <th>26</th>\n",
       "      <td>26</td>\n",
       "      <td>2017-05-25 00:00:00</td>\n",
       "      <td>350114</td>\n",
       "      <td>4828621</td>\n",
       "      <td>5871334</td>\n",
       "      <td>4828621</td>\n",
       "      <td>17</td>\n",
       "      <td>5871334</td>\n",
       "      <td>499</td>\n",
       "    </tr>\n",
       "    <tr>\n",
       "      <th>27</th>\n",
       "      <td>27</td>\n",
       "      <td>2017-05-26 00:00:00</td>\n",
       "      <td>333340</td>\n",
       "      <td>4532386</td>\n",
       "      <td>5119620</td>\n",
       "      <td>4532386</td>\n",
       "      <td>16</td>\n",
       "      <td>5119620</td>\n",
       "      <td>470</td>\n",
       "    </tr>\n",
       "    <tr>\n",
       "      <th>28</th>\n",
       "      <td>28</td>\n",
       "      <td>2017-05-27 00:00:00</td>\n",
       "      <td>331914</td>\n",
       "      <td>4976738</td>\n",
       "      <td>5121737</td>\n",
       "      <td>4976738</td>\n",
       "      <td>16</td>\n",
       "      <td>5121737</td>\n",
       "      <td>529</td>\n",
       "    </tr>\n",
       "    <tr>\n",
       "      <th>29</th>\n",
       "      <td>29</td>\n",
       "      <td>2017-05-28 00:00:00</td>\n",
       "      <td>308143</td>\n",
       "      <td>4887867</td>\n",
       "      <td>5262057</td>\n",
       "      <td>4887867</td>\n",
       "      <td>18</td>\n",
       "      <td>5262057</td>\n",
       "      <td>421</td>\n",
       "    </tr>\n",
       "  </tbody>\n",
       "</table>\n",
       "</div>"
      ],
      "text/plain": [
       "    Unnamed: 0                 Date  Number-transactions  Output-volume(BTC)  \\\n",
       "0            0  2017-04-29 00:00:00               341319             4488916   \n",
       "1            1  2017-04-30 00:00:00               281489             3918072   \n",
       "2            2  2017-05-01 00:00:00               294786             3892124   \n",
       "3            3  2017-05-02 00:00:00               333161             4099704   \n",
       "4            4  2017-05-03 00:00:00               295149             3425069   \n",
       "5            5  2017-05-04 00:00:00               354737             4359179   \n",
       "6            6  2017-05-05 00:00:00               267193             3347227   \n",
       "7            7  2017-05-06 00:00:00               363022             4359179   \n",
       "8            8  2017-05-07 00:00:00               316011             4333232   \n",
       "9            9  2017-05-08 00:00:00               365096             4670549   \n",
       "10          10  2017-05-09 00:00:00               332879             4021862   \n",
       "11          11  2017-05-10 00:00:00               311391             4119773   \n",
       "12          12  2017-05-11 00:00:00               294743             3757901   \n",
       "13          13  2017-05-12 00:00:00               317698             4286791   \n",
       "14          14  2017-05-13 00:00:00               329266             4398136   \n",
       "15          15  2017-05-14 00:00:00               369098             4565154   \n",
       "16          16  2017-05-15 00:00:00               329229             4732172   \n",
       "17          17  2017-05-16 00:00:00               233977             3674392   \n",
       "18          18  2017-05-17 00:00:00               317527             4314627   \n",
       "19          19  2017-05-18 00:00:00               288904             3952755   \n",
       "20          20  2017-05-19 00:00:00               319502             4565154   \n",
       "21          21  2017-05-20 00:00:00               352805             4592990   \n",
       "22          22  2017-05-21 00:00:00               326057             4091937   \n",
       "23          23  2017-05-22 00:00:00               327868             4064100   \n",
       "24          24  2017-05-23 00:00:00               367710             4976738   \n",
       "25          25  2017-05-24 00:00:00               338642             4562010   \n",
       "26          26  2017-05-25 00:00:00               350114             4828621   \n",
       "27          27  2017-05-26 00:00:00               333340             4532386   \n",
       "28          28  2017-05-27 00:00:00               331914             4976738   \n",
       "29          29  2017-05-28 00:00:00               308143             4887867   \n",
       "\n",
       "    Market-price  Hash-rate  Cost-per-trans-USD  Mining-revenue-USD  \\\n",
       "0        3119179    4488916                   9             3119179   \n",
       "1        2720216    3918072                  10             2720216   \n",
       "2        2878278    3892124                  10             2878278   \n",
       "3        3149553    4099704                  10             3149553   \n",
       "4        2760373    3425069                  10             2760373   \n",
       "5        3500746    4359179                  10             3500746   \n",
       "6        2779170    3347227                  11             2779170   \n",
       "7        3610789    4359179                  10             3610789   \n",
       "8        3505620    4333232                  11             3505620   \n",
       "9        4062173    4670549                  12             4062173   \n",
       "10       3715394    4021862                  12             3715394   \n",
       "11       3665041    4119773                  12             3665041   \n",
       "12       3468077    3757901                  12             3468077   \n",
       "13       3731718    4286791                  12             3731718   \n",
       "14       3885821    4398136                  12             3885821   \n",
       "15       4018028    4565154                  11             4018028   \n",
       "16       4090703    4732172                  13             4090703   \n",
       "17       3356332    3674392                  15             3356332   \n",
       "18       4241264    4314627                  14             4241264   \n",
       "19       3986175    3952755                  14             3986175   \n",
       "20       4746880    4565154                  15             4746880   \n",
       "21       4862317    4592990                  14             4862317   \n",
       "22       4331490    4091937                  14             4331490   \n",
       "23       4499105    4064100                  14             4499105   \n",
       "24       5668946    4976738                  16             5668946   \n",
       "25       5524488    4562010                  17             5524488   \n",
       "26       5871334    4828621                  17             5871334   \n",
       "27       5119620    4532386                  16             5119620   \n",
       "28       5121737    4976738                  16             5121737   \n",
       "29       5262057    4887867                  18             5262057   \n",
       "\n",
       "    Transaction-fees-BTC  \n",
       "0                    256  \n",
       "1                    199  \n",
       "2                    228  \n",
       "3                    273  \n",
       "4                    247  \n",
       "5                    307  \n",
       "6                    261  \n",
       "7                    297  \n",
       "8                    277  \n",
       "9                    316  \n",
       "10                   303  \n",
       "11                   303  \n",
       "12                   280  \n",
       "13                   322  \n",
       "14                   301  \n",
       "15                   297  \n",
       "16                   327  \n",
       "17                   343  \n",
       "18                   486  \n",
       "19                   392  \n",
       "20                   443  \n",
       "21                   388  \n",
       "22                   353  \n",
       "23                   407  \n",
       "24                   468  \n",
       "25                   473  \n",
       "26                   499  \n",
       "27                   470  \n",
       "28                   529  \n",
       "29                   421  "
      ]
     },
     "execution_count": 5,
     "metadata": {},
     "output_type": "execute_result"
    }
   ],
   "source": [
    "df.head(30)"
   ]
  },
  {
   "cell_type": "code",
   "execution_count": 6,
   "metadata": {},
   "outputs": [],
   "source": [
    "# cut "
   ]
  },
  {
   "cell_type": "code",
   "execution_count": 7,
   "metadata": {},
   "outputs": [
    {
     "data": {
      "text/plain": [
       "0    (209.5, 275.0]\n",
       "1    (144.0, 209.5]\n",
       "2    (209.5, 275.0]\n",
       "3    (209.5, 275.0]\n",
       "4    (209.5, 275.0]\n",
       "Name: Transaction-fees-BTC, dtype: category\n",
       "Categories (10, interval[float64]): [(12.345, 78.5] < (78.5, 144.0] < (144.0, 209.5] < (209.5, 275.0] ... (406.0, 471.5] < (471.5, 537.0] < (537.0, 602.5] < (602.5, 668.0]]"
      ]
     },
     "execution_count": 7,
     "metadata": {},
     "output_type": "execute_result"
    }
   ],
   "source": [
    "df_cut = pd.cut(df[\"Transaction-fees-BTC\"], bins = 10)\n",
    "df_cut.head()"
   ]
  },
  {
   "cell_type": "code",
   "execution_count": 8,
   "metadata": {},
   "outputs": [],
   "source": [
    "# value count"
   ]
  },
  {
   "cell_type": "code",
   "execution_count": 12,
   "metadata": {},
   "outputs": [],
   "source": [
    "df_value_count = df_cut.value_counts()"
   ]
  },
  {
   "cell_type": "code",
   "execution_count": 13,
   "metadata": {},
   "outputs": [
    {
     "data": {
      "text/plain": [
       "(144.0, 209.5]    49\n",
       "(209.5, 275.0]    25\n",
       "(275.0, 340.5]    24\n",
       "(78.5, 144.0]     24\n",
       "(340.5, 406.0]    23\n",
       "(406.0, 471.5]    17\n",
       "(471.5, 537.0]     9\n",
       "(537.0, 602.5]     5\n",
       "(12.345, 78.5]     2\n",
       "(602.5, 668.0]     1\n",
       "Name: Transaction-fees-BTC, dtype: int64"
      ]
     },
     "execution_count": 13,
     "metadata": {},
     "output_type": "execute_result"
    }
   ],
   "source": [
    "df_value_count.head(100)"
   ]
  },
  {
   "cell_type": "code",
   "execution_count": 15,
   "metadata": {},
   "outputs": [],
   "source": [
    "# convert to dataframe with string column "
   ]
  },
  {
   "cell_type": "code",
   "execution_count": 18,
   "metadata": {},
   "outputs": [
    {
     "data": {
      "text/html": [
       "<div>\n",
       "<style scoped>\n",
       "    .dataframe tbody tr th:only-of-type {\n",
       "        vertical-align: middle;\n",
       "    }\n",
       "\n",
       "    .dataframe tbody tr th {\n",
       "        vertical-align: top;\n",
       "    }\n",
       "\n",
       "    .dataframe thead th {\n",
       "        text-align: right;\n",
       "    }\n",
       "</style>\n",
       "<table border=\"1\" class=\"dataframe\">\n",
       "  <thead>\n",
       "    <tr style=\"text-align: right;\">\n",
       "      <th></th>\n",
       "      <th>index</th>\n",
       "      <th>Transaction-fees-BTC</th>\n",
       "    </tr>\n",
       "  </thead>\n",
       "  <tbody>\n",
       "    <tr>\n",
       "      <th>0</th>\n",
       "      <td>(144.0, 209.5]</td>\n",
       "      <td>49</td>\n",
       "    </tr>\n",
       "    <tr>\n",
       "      <th>1</th>\n",
       "      <td>(209.5, 275.0]</td>\n",
       "      <td>25</td>\n",
       "    </tr>\n",
       "    <tr>\n",
       "      <th>2</th>\n",
       "      <td>(275.0, 340.5]</td>\n",
       "      <td>24</td>\n",
       "    </tr>\n",
       "    <tr>\n",
       "      <th>3</th>\n",
       "      <td>(78.5, 144.0]</td>\n",
       "      <td>24</td>\n",
       "    </tr>\n",
       "    <tr>\n",
       "      <th>4</th>\n",
       "      <td>(340.5, 406.0]</td>\n",
       "      <td>23</td>\n",
       "    </tr>\n",
       "  </tbody>\n",
       "</table>\n",
       "</div>"
      ],
      "text/plain": [
       "            index  Transaction-fees-BTC\n",
       "0  (144.0, 209.5]                    49\n",
       "1  (209.5, 275.0]                    25\n",
       "2  (275.0, 340.5]                    24\n",
       "3   (78.5, 144.0]                    24\n",
       "4  (340.5, 406.0]                    23"
      ]
     },
     "execution_count": 18,
     "metadata": {},
     "output_type": "execute_result"
    }
   ],
   "source": [
    "df_hist = pd.DataFrame(df_value_count)\n",
    "df_hist = df_hist.reset_index()\n",
    "df_hist.head()"
   ]
  },
  {
   "cell_type": "code",
   "execution_count": 19,
   "metadata": {},
   "outputs": [],
   "source": [
    "df_hist['index_str'] = df_hist['index'].apply(str)"
   ]
  },
  {
   "cell_type": "code",
   "execution_count": null,
   "metadata": {},
   "outputs": [],
   "source": []
  },
  {
   "cell_type": "code",
   "execution_count": 23,
   "metadata": {},
   "outputs": [],
   "source": [
    "df_sort = df_hist.sort_values('index')"
   ]
  },
  {
   "cell_type": "code",
   "execution_count": 24,
   "metadata": {},
   "outputs": [
    {
     "data": {
      "text/html": [
       "<div>\n",
       "<style scoped>\n",
       "    .dataframe tbody tr th:only-of-type {\n",
       "        vertical-align: middle;\n",
       "    }\n",
       "\n",
       "    .dataframe tbody tr th {\n",
       "        vertical-align: top;\n",
       "    }\n",
       "\n",
       "    .dataframe thead th {\n",
       "        text-align: right;\n",
       "    }\n",
       "</style>\n",
       "<table border=\"1\" class=\"dataframe\">\n",
       "  <thead>\n",
       "    <tr style=\"text-align: right;\">\n",
       "      <th></th>\n",
       "      <th>index</th>\n",
       "      <th>Transaction-fees-BTC</th>\n",
       "      <th>index_str</th>\n",
       "    </tr>\n",
       "  </thead>\n",
       "  <tbody>\n",
       "    <tr>\n",
       "      <th>8</th>\n",
       "      <td>(12.345, 78.5]</td>\n",
       "      <td>2</td>\n",
       "      <td>(12.345, 78.5]</td>\n",
       "    </tr>\n",
       "    <tr>\n",
       "      <th>3</th>\n",
       "      <td>(78.5, 144.0]</td>\n",
       "      <td>24</td>\n",
       "      <td>(78.5, 144.0]</td>\n",
       "    </tr>\n",
       "    <tr>\n",
       "      <th>0</th>\n",
       "      <td>(144.0, 209.5]</td>\n",
       "      <td>49</td>\n",
       "      <td>(144.0, 209.5]</td>\n",
       "    </tr>\n",
       "    <tr>\n",
       "      <th>1</th>\n",
       "      <td>(209.5, 275.0]</td>\n",
       "      <td>25</td>\n",
       "      <td>(209.5, 275.0]</td>\n",
       "    </tr>\n",
       "    <tr>\n",
       "      <th>2</th>\n",
       "      <td>(275.0, 340.5]</td>\n",
       "      <td>24</td>\n",
       "      <td>(275.0, 340.5]</td>\n",
       "    </tr>\n",
       "  </tbody>\n",
       "</table>\n",
       "</div>"
      ],
      "text/plain": [
       "            index  Transaction-fees-BTC       index_str\n",
       "8  (12.345, 78.5]                     2  (12.345, 78.5]\n",
       "3   (78.5, 144.0]                    24   (78.5, 144.0]\n",
       "0  (144.0, 209.5]                    49  (144.0, 209.5]\n",
       "1  (209.5, 275.0]                    25  (209.5, 275.0]\n",
       "2  (275.0, 340.5]                    24  (275.0, 340.5]"
      ]
     },
     "execution_count": 24,
     "metadata": {},
     "output_type": "execute_result"
    }
   ],
   "source": [
    "df_sort.head()"
   ]
  },
  {
   "cell_type": "code",
   "execution_count": 25,
   "metadata": {},
   "outputs": [
    {
     "data": {
      "text/html": [
       "<div>\n",
       "<style scoped>\n",
       "    .dataframe tbody tr th:only-of-type {\n",
       "        vertical-align: middle;\n",
       "    }\n",
       "\n",
       "    .dataframe tbody tr th {\n",
       "        vertical-align: top;\n",
       "    }\n",
       "\n",
       "    .dataframe thead th {\n",
       "        text-align: right;\n",
       "    }\n",
       "</style>\n",
       "<table border=\"1\" class=\"dataframe\">\n",
       "  <thead>\n",
       "    <tr style=\"text-align: right;\">\n",
       "      <th></th>\n",
       "      <th>index</th>\n",
       "      <th>Transaction-fees-BTC</th>\n",
       "      <th>index_str</th>\n",
       "    </tr>\n",
       "  </thead>\n",
       "  <tbody>\n",
       "    <tr>\n",
       "      <th>8</th>\n",
       "      <td>(12.345, 78.5]</td>\n",
       "      <td>2</td>\n",
       "      <td>(12.345, 78.5]</td>\n",
       "    </tr>\n",
       "    <tr>\n",
       "      <th>3</th>\n",
       "      <td>(78.5, 144.0]</td>\n",
       "      <td>24</td>\n",
       "      <td>(78.5, 144.0]</td>\n",
       "    </tr>\n",
       "    <tr>\n",
       "      <th>0</th>\n",
       "      <td>(144.0, 209.5]</td>\n",
       "      <td>49</td>\n",
       "      <td>(144.0, 209.5]</td>\n",
       "    </tr>\n",
       "    <tr>\n",
       "      <th>1</th>\n",
       "      <td>(209.5, 275.0]</td>\n",
       "      <td>25</td>\n",
       "      <td>(209.5, 275.0]</td>\n",
       "    </tr>\n",
       "    <tr>\n",
       "      <th>2</th>\n",
       "      <td>(275.0, 340.5]</td>\n",
       "      <td>24</td>\n",
       "      <td>(275.0, 340.5]</td>\n",
       "    </tr>\n",
       "  </tbody>\n",
       "</table>\n",
       "</div>"
      ],
      "text/plain": [
       "            index  Transaction-fees-BTC       index_str\n",
       "8  (12.345, 78.5]                     2  (12.345, 78.5]\n",
       "3   (78.5, 144.0]                    24   (78.5, 144.0]\n",
       "0  (144.0, 209.5]                    49  (144.0, 209.5]\n",
       "1  (209.5, 275.0]                    25  (209.5, 275.0]\n",
       "2  (275.0, 340.5]                    24  (275.0, 340.5]"
      ]
     },
     "execution_count": 25,
     "metadata": {},
     "output_type": "execute_result"
    }
   ],
   "source": [
    "df_sort.head()"
   ]
  },
  {
   "cell_type": "code",
   "execution_count": 32,
   "metadata": {},
   "outputs": [],
   "source": []
  },
  {
   "cell_type": "code",
   "execution_count": null,
   "metadata": {},
   "outputs": [],
   "source": []
  },
  {
   "cell_type": "code",
   "execution_count": null,
   "metadata": {},
   "outputs": [],
   "source": []
  },
  {
   "cell_type": "code",
   "execution_count": null,
   "metadata": {},
   "outputs": [],
   "source": []
  },
  {
   "cell_type": "code",
   "execution_count": null,
   "metadata": {},
   "outputs": [],
   "source": []
  },
  {
   "cell_type": "code",
   "execution_count": 39,
   "metadata": {},
   "outputs": [
    {
     "data": {
      "application/vnd.plotly.v1+json": {
       "config": {
        "plotlyServerURL": "https://plot.ly"
       },
       "data": [
        {
         "name": "Transaction-fees-BTC",
         "type": "bar",
         "x": [
          "(12.345, 78.5]",
          "(78.5, 144.0]",
          "(144.0, 209.5]",
          "(209.5, 275.0]",
          "(275.0, 340.5]",
          "(340.5, 406.0]",
          "(406.0, 471.5]",
          "(471.5, 537.0]",
          "(537.0, 602.5]",
          "(602.5, 668.0]"
         ],
         "y": [
          2,
          24,
          49,
          25,
          24,
          23,
          17,
          9,
          5,
          1
         ]
        }
       ],
       "layout": {
        "annotations": [
         {
          "font": {
           "size": 16
          },
          "showarrow": false,
          "text": "t",
          "x": 0.5,
          "xanchor": "center",
          "xref": "paper",
          "y": 1,
          "yanchor": "bottom",
          "yref": "paper"
         }
        ],
        "autosize": true,
        "template": {
         "data": {
          "bar": [
           {
            "error_x": {
             "color": "#2a3f5f"
            },
            "error_y": {
             "color": "#2a3f5f"
            },
            "marker": {
             "line": {
              "color": "#E5ECF6",
              "width": 0.5
             }
            },
            "type": "bar"
           }
          ],
          "barpolar": [
           {
            "marker": {
             "line": {
              "color": "#E5ECF6",
              "width": 0.5
             }
            },
            "type": "barpolar"
           }
          ],
          "carpet": [
           {
            "aaxis": {
             "endlinecolor": "#2a3f5f",
             "gridcolor": "white",
             "linecolor": "white",
             "minorgridcolor": "white",
             "startlinecolor": "#2a3f5f"
            },
            "baxis": {
             "endlinecolor": "#2a3f5f",
             "gridcolor": "white",
             "linecolor": "white",
             "minorgridcolor": "white",
             "startlinecolor": "#2a3f5f"
            },
            "type": "carpet"
           }
          ],
          "choropleth": [
           {
            "colorbar": {
             "outlinewidth": 0,
             "ticks": ""
            },
            "type": "choropleth"
           }
          ],
          "contour": [
           {
            "colorbar": {
             "outlinewidth": 0,
             "ticks": ""
            },
            "colorscale": [
             [
              0,
              "#0d0887"
             ],
             [
              0.1111111111111111,
              "#46039f"
             ],
             [
              0.2222222222222222,
              "#7201a8"
             ],
             [
              0.3333333333333333,
              "#9c179e"
             ],
             [
              0.4444444444444444,
              "#bd3786"
             ],
             [
              0.5555555555555556,
              "#d8576b"
             ],
             [
              0.6666666666666666,
              "#ed7953"
             ],
             [
              0.7777777777777778,
              "#fb9f3a"
             ],
             [
              0.8888888888888888,
              "#fdca26"
             ],
             [
              1,
              "#f0f921"
             ]
            ],
            "type": "contour"
           }
          ],
          "contourcarpet": [
           {
            "colorbar": {
             "outlinewidth": 0,
             "ticks": ""
            },
            "type": "contourcarpet"
           }
          ],
          "heatmap": [
           {
            "colorbar": {
             "outlinewidth": 0,
             "ticks": ""
            },
            "colorscale": [
             [
              0,
              "#0d0887"
             ],
             [
              0.1111111111111111,
              "#46039f"
             ],
             [
              0.2222222222222222,
              "#7201a8"
             ],
             [
              0.3333333333333333,
              "#9c179e"
             ],
             [
              0.4444444444444444,
              "#bd3786"
             ],
             [
              0.5555555555555556,
              "#d8576b"
             ],
             [
              0.6666666666666666,
              "#ed7953"
             ],
             [
              0.7777777777777778,
              "#fb9f3a"
             ],
             [
              0.8888888888888888,
              "#fdca26"
             ],
             [
              1,
              "#f0f921"
             ]
            ],
            "type": "heatmap"
           }
          ],
          "heatmapgl": [
           {
            "colorbar": {
             "outlinewidth": 0,
             "ticks": ""
            },
            "colorscale": [
             [
              0,
              "#0d0887"
             ],
             [
              0.1111111111111111,
              "#46039f"
             ],
             [
              0.2222222222222222,
              "#7201a8"
             ],
             [
              0.3333333333333333,
              "#9c179e"
             ],
             [
              0.4444444444444444,
              "#bd3786"
             ],
             [
              0.5555555555555556,
              "#d8576b"
             ],
             [
              0.6666666666666666,
              "#ed7953"
             ],
             [
              0.7777777777777778,
              "#fb9f3a"
             ],
             [
              0.8888888888888888,
              "#fdca26"
             ],
             [
              1,
              "#f0f921"
             ]
            ],
            "type": "heatmapgl"
           }
          ],
          "histogram": [
           {
            "marker": {
             "colorbar": {
              "outlinewidth": 0,
              "ticks": ""
             }
            },
            "type": "histogram"
           }
          ],
          "histogram2d": [
           {
            "colorbar": {
             "outlinewidth": 0,
             "ticks": ""
            },
            "colorscale": [
             [
              0,
              "#0d0887"
             ],
             [
              0.1111111111111111,
              "#46039f"
             ],
             [
              0.2222222222222222,
              "#7201a8"
             ],
             [
              0.3333333333333333,
              "#9c179e"
             ],
             [
              0.4444444444444444,
              "#bd3786"
             ],
             [
              0.5555555555555556,
              "#d8576b"
             ],
             [
              0.6666666666666666,
              "#ed7953"
             ],
             [
              0.7777777777777778,
              "#fb9f3a"
             ],
             [
              0.8888888888888888,
              "#fdca26"
             ],
             [
              1,
              "#f0f921"
             ]
            ],
            "type": "histogram2d"
           }
          ],
          "histogram2dcontour": [
           {
            "colorbar": {
             "outlinewidth": 0,
             "ticks": ""
            },
            "colorscale": [
             [
              0,
              "#0d0887"
             ],
             [
              0.1111111111111111,
              "#46039f"
             ],
             [
              0.2222222222222222,
              "#7201a8"
             ],
             [
              0.3333333333333333,
              "#9c179e"
             ],
             [
              0.4444444444444444,
              "#bd3786"
             ],
             [
              0.5555555555555556,
              "#d8576b"
             ],
             [
              0.6666666666666666,
              "#ed7953"
             ],
             [
              0.7777777777777778,
              "#fb9f3a"
             ],
             [
              0.8888888888888888,
              "#fdca26"
             ],
             [
              1,
              "#f0f921"
             ]
            ],
            "type": "histogram2dcontour"
           }
          ],
          "mesh3d": [
           {
            "colorbar": {
             "outlinewidth": 0,
             "ticks": ""
            },
            "type": "mesh3d"
           }
          ],
          "parcoords": [
           {
            "line": {
             "colorbar": {
              "outlinewidth": 0,
              "ticks": ""
             }
            },
            "type": "parcoords"
           }
          ],
          "pie": [
           {
            "automargin": true,
            "type": "pie"
           }
          ],
          "scatter": [
           {
            "marker": {
             "colorbar": {
              "outlinewidth": 0,
              "ticks": ""
             }
            },
            "type": "scatter"
           }
          ],
          "scatter3d": [
           {
            "line": {
             "colorbar": {
              "outlinewidth": 0,
              "ticks": ""
             }
            },
            "marker": {
             "colorbar": {
              "outlinewidth": 0,
              "ticks": ""
             }
            },
            "type": "scatter3d"
           }
          ],
          "scattercarpet": [
           {
            "marker": {
             "colorbar": {
              "outlinewidth": 0,
              "ticks": ""
             }
            },
            "type": "scattercarpet"
           }
          ],
          "scattergeo": [
           {
            "marker": {
             "colorbar": {
              "outlinewidth": 0,
              "ticks": ""
             }
            },
            "type": "scattergeo"
           }
          ],
          "scattergl": [
           {
            "marker": {
             "colorbar": {
              "outlinewidth": 0,
              "ticks": ""
             }
            },
            "type": "scattergl"
           }
          ],
          "scattermapbox": [
           {
            "marker": {
             "colorbar": {
              "outlinewidth": 0,
              "ticks": ""
             }
            },
            "type": "scattermapbox"
           }
          ],
          "scatterpolar": [
           {
            "marker": {
             "colorbar": {
              "outlinewidth": 0,
              "ticks": ""
             }
            },
            "type": "scatterpolar"
           }
          ],
          "scatterpolargl": [
           {
            "marker": {
             "colorbar": {
              "outlinewidth": 0,
              "ticks": ""
             }
            },
            "type": "scatterpolargl"
           }
          ],
          "scatterternary": [
           {
            "marker": {
             "colorbar": {
              "outlinewidth": 0,
              "ticks": ""
             }
            },
            "type": "scatterternary"
           }
          ],
          "surface": [
           {
            "colorbar": {
             "outlinewidth": 0,
             "ticks": ""
            },
            "colorscale": [
             [
              0,
              "#0d0887"
             ],
             [
              0.1111111111111111,
              "#46039f"
             ],
             [
              0.2222222222222222,
              "#7201a8"
             ],
             [
              0.3333333333333333,
              "#9c179e"
             ],
             [
              0.4444444444444444,
              "#bd3786"
             ],
             [
              0.5555555555555556,
              "#d8576b"
             ],
             [
              0.6666666666666666,
              "#ed7953"
             ],
             [
              0.7777777777777778,
              "#fb9f3a"
             ],
             [
              0.8888888888888888,
              "#fdca26"
             ],
             [
              1,
              "#f0f921"
             ]
            ],
            "type": "surface"
           }
          ],
          "table": [
           {
            "cells": {
             "fill": {
              "color": "#EBF0F8"
             },
             "line": {
              "color": "white"
             }
            },
            "header": {
             "fill": {
              "color": "#C8D4E3"
             },
             "line": {
              "color": "white"
             }
            },
            "type": "table"
           }
          ]
         },
         "layout": {
          "annotationdefaults": {
           "arrowcolor": "#2a3f5f",
           "arrowhead": 0,
           "arrowwidth": 1
          },
          "coloraxis": {
           "colorbar": {
            "outlinewidth": 0,
            "ticks": ""
           }
          },
          "colorscale": {
           "diverging": [
            [
             0,
             "#8e0152"
            ],
            [
             0.1,
             "#c51b7d"
            ],
            [
             0.2,
             "#de77ae"
            ],
            [
             0.3,
             "#f1b6da"
            ],
            [
             0.4,
             "#fde0ef"
            ],
            [
             0.5,
             "#f7f7f7"
            ],
            [
             0.6,
             "#e6f5d0"
            ],
            [
             0.7,
             "#b8e186"
            ],
            [
             0.8,
             "#7fbc41"
            ],
            [
             0.9,
             "#4d9221"
            ],
            [
             1,
             "#276419"
            ]
           ],
           "sequential": [
            [
             0,
             "#0d0887"
            ],
            [
             0.1111111111111111,
             "#46039f"
            ],
            [
             0.2222222222222222,
             "#7201a8"
            ],
            [
             0.3333333333333333,
             "#9c179e"
            ],
            [
             0.4444444444444444,
             "#bd3786"
            ],
            [
             0.5555555555555556,
             "#d8576b"
            ],
            [
             0.6666666666666666,
             "#ed7953"
            ],
            [
             0.7777777777777778,
             "#fb9f3a"
            ],
            [
             0.8888888888888888,
             "#fdca26"
            ],
            [
             1,
             "#f0f921"
            ]
           ],
           "sequentialminus": [
            [
             0,
             "#0d0887"
            ],
            [
             0.1111111111111111,
             "#46039f"
            ],
            [
             0.2222222222222222,
             "#7201a8"
            ],
            [
             0.3333333333333333,
             "#9c179e"
            ],
            [
             0.4444444444444444,
             "#bd3786"
            ],
            [
             0.5555555555555556,
             "#d8576b"
            ],
            [
             0.6666666666666666,
             "#ed7953"
            ],
            [
             0.7777777777777778,
             "#fb9f3a"
            ],
            [
             0.8888888888888888,
             "#fdca26"
            ],
            [
             1,
             "#f0f921"
            ]
           ]
          },
          "colorway": [
           "#636efa",
           "#EF553B",
           "#00cc96",
           "#ab63fa",
           "#FFA15A",
           "#19d3f3",
           "#FF6692",
           "#B6E880",
           "#FF97FF",
           "#FECB52"
          ],
          "font": {
           "color": "#2a3f5f"
          },
          "geo": {
           "bgcolor": "white",
           "lakecolor": "white",
           "landcolor": "#E5ECF6",
           "showlakes": true,
           "showland": true,
           "subunitcolor": "white"
          },
          "hoverlabel": {
           "align": "left"
          },
          "hovermode": "closest",
          "mapbox": {
           "style": "light"
          },
          "paper_bgcolor": "white",
          "plot_bgcolor": "#E5ECF6",
          "polar": {
           "angularaxis": {
            "gridcolor": "white",
            "linecolor": "white",
            "ticks": ""
           },
           "bgcolor": "#E5ECF6",
           "radialaxis": {
            "gridcolor": "white",
            "linecolor": "white",
            "ticks": ""
           }
          },
          "scene": {
           "xaxis": {
            "backgroundcolor": "#E5ECF6",
            "gridcolor": "white",
            "gridwidth": 2,
            "linecolor": "white",
            "showbackground": true,
            "ticks": "",
            "zerolinecolor": "white"
           },
           "yaxis": {
            "backgroundcolor": "#E5ECF6",
            "gridcolor": "white",
            "gridwidth": 2,
            "linecolor": "white",
            "showbackground": true,
            "ticks": "",
            "zerolinecolor": "white"
           },
           "zaxis": {
            "backgroundcolor": "#E5ECF6",
            "gridcolor": "white",
            "gridwidth": 2,
            "linecolor": "white",
            "showbackground": true,
            "ticks": "",
            "zerolinecolor": "white"
           }
          },
          "shapedefaults": {
           "line": {
            "color": "#2a3f5f"
           }
          },
          "ternary": {
           "aaxis": {
            "gridcolor": "white",
            "linecolor": "white",
            "ticks": ""
           },
           "baxis": {
            "gridcolor": "white",
            "linecolor": "white",
            "ticks": ""
           },
           "bgcolor": "#E5ECF6",
           "caxis": {
            "gridcolor": "white",
            "linecolor": "white",
            "ticks": ""
           }
          },
          "title": {
           "x": 0.05
          },
          "xaxis": {
           "automargin": true,
           "gridcolor": "white",
           "linecolor": "white",
           "ticks": "",
           "title": {
            "standoff": 15
           },
           "zerolinecolor": "white",
           "zerolinewidth": 2
          },
          "yaxis": {
           "automargin": true,
           "gridcolor": "white",
           "linecolor": "white",
           "ticks": "",
           "title": {
            "standoff": 15
           },
           "zerolinecolor": "white",
           "zerolinewidth": 2
          }
         }
        },
        "xaxis": {
         "anchor": "y",
         "autorange": true,
         "domain": [
          0,
          1
         ],
         "range": [
          -0.5,
          9.5
         ],
         "type": "category"
        },
        "yaxis": {
         "anchor": "x",
         "autorange": true,
         "domain": [
          0,
          1
         ],
         "range": [
          0,
          51.578947368421055
         ],
         "type": "linear"
        }
       }
      },
      "image/png": "[encoded data removed]",
      "text/html": [
       "<div>                            <div id=\"2fef3a08-13ad-4dc2-9cf8-1aae8d2e1dc2\" class=\"plotly-graph-div\" style=\"height:525px; width:100%;\"></div>            <script type=\"text/javascript\">                require([\"plotly\"], function(Plotly) {                    window.PLOTLYENV=window.PLOTLYENV || {};                                    if (document.getElementById(\"2fef3a08-13ad-4dc2-9cf8-1aae8d2e1dc2\")) {                    Plotly.newPlot(                        \"2fef3a08-13ad-4dc2-9cf8-1aae8d2e1dc2\",                        [{\"name\": \"Transaction-fees-BTC\", \"type\": \"bar\", \"x\": [\"(12.345, 78.5]\", \"(78.5, 144.0]\", \"(144.0, 209.5]\", \"(209.5, 275.0]\", \"(275.0, 340.5]\", \"(340.5, 406.0]\", \"(406.0, 471.5]\", \"(471.5, 537.0]\", \"(537.0, 602.5]\", \"(602.5, 668.0]\"], \"y\": [2, 24, 49, 25, 24, 23, 17, 9, 5, 1]}],                        {\"annotations\": [{\"font\": {\"size\": 16}, \"showarrow\": false, \"text\": \"t\", \"x\": 0.5, \"xanchor\": \"center\", \"xref\": \"paper\", \"y\": 1.0, \"yanchor\": \"bottom\", \"yref\": \"paper\"}], \"template\": {\"data\": {\"bar\": [{\"error_x\": {\"color\": \"#2a3f5f\"}, \"error_y\": {\"color\": \"#2a3f5f\"}, \"marker\": {\"line\": {\"color\": \"#E5ECF6\", \"width\": 0.5}}, \"type\": \"bar\"}], \"barpolar\": [{\"marker\": {\"line\": {\"color\": \"#E5ECF6\", \"width\": 0.5}}, \"type\": \"barpolar\"}], \"carpet\": [{\"aaxis\": {\"endlinecolor\": \"#2a3f5f\", \"gridcolor\": \"white\", \"linecolor\": \"white\", \"minorgridcolor\": \"white\", \"startlinecolor\": \"#2a3f5f\"}, \"baxis\": {\"endlinecolor\": \"#2a3f5f\", \"gridcolor\": \"white\", \"linecolor\": \"white\", \"minorgridcolor\": \"white\", \"startlinecolor\": \"#2a3f5f\"}, \"type\": \"carpet\"}], \"choropleth\": [{\"colorbar\": {\"outlinewidth\": 0, \"ticks\": \"\"}, \"type\": \"choropleth\"}], \"contour\": [{\"colorbar\": {\"outlinewidth\": 0, \"ticks\": \"\"}, \"colorscale\": [[0.0, \"#0d0887\"], [0.1111111111111111, \"#46039f\"], [0.2222222222222222, \"#7201a8\"], [0.3333333333333333, \"#9c179e\"], [0.4444444444444444, \"#bd3786\"], [0.5555555555555556, \"#d8576b\"], [0.6666666666666666, \"#ed7953\"], [0.7777777777777778, \"#fb9f3a\"], [0.8888888888888888, \"#fdca26\"], [1.0, \"#f0f921\"]], \"type\": \"contour\"}], \"contourcarpet\": [{\"colorbar\": {\"outlinewidth\": 0, \"ticks\": \"\"}, \"type\": \"contourcarpet\"}], \"heatmap\": [{\"colorbar\": {\"outlinewidth\": 0, \"ticks\": \"\"}, \"colorscale\": [[0.0, \"#0d0887\"], [0.1111111111111111, \"#46039f\"], [0.2222222222222222, \"#7201a8\"], [0.3333333333333333, \"#9c179e\"], [0.4444444444444444, \"#bd3786\"], [0.5555555555555556, \"#d8576b\"], [0.6666666666666666, \"#ed7953\"], [0.7777777777777778, \"#fb9f3a\"], [0.8888888888888888, \"#fdca26\"], [1.0, \"#f0f921\"]], \"type\": \"heatmap\"}], \"heatmapgl\": [{\"colorbar\": {\"outlinewidth\": 0, \"ticks\": \"\"}, \"colorscale\": [[0.0, \"#0d0887\"], [0.1111111111111111, \"#46039f\"], [0.2222222222222222, \"#7201a8\"], [0.3333333333333333, \"#9c179e\"], [0.4444444444444444, \"#bd3786\"], [0.5555555555555556, \"#d8576b\"], [0.6666666666666666, \"#ed7953\"], [0.7777777777777778, \"#fb9f3a\"], [0.8888888888888888, \"#fdca26\"], [1.0, \"#f0f921\"]], \"type\": \"heatmapgl\"}], \"histogram\": [{\"marker\": {\"colorbar\": {\"outlinewidth\": 0, \"ticks\": \"\"}}, \"type\": \"histogram\"}], \"histogram2d\": [{\"colorbar\": {\"outlinewidth\": 0, \"ticks\": \"\"}, \"colorscale\": [[0.0, \"#0d0887\"], [0.1111111111111111, \"#46039f\"], [0.2222222222222222, \"#7201a8\"], [0.3333333333333333, \"#9c179e\"], [0.4444444444444444, \"#bd3786\"], [0.5555555555555556, \"#d8576b\"], [0.6666666666666666, \"#ed7953\"], [0.7777777777777778, \"#fb9f3a\"], [0.8888888888888888, \"#fdca26\"], [1.0, \"#f0f921\"]], \"type\": \"histogram2d\"}], \"histogram2dcontour\": [{\"colorbar\": {\"outlinewidth\": 0, \"ticks\": \"\"}, \"colorscale\": [[0.0, \"#0d0887\"], [0.1111111111111111, \"#46039f\"], [0.2222222222222222, \"#7201a8\"], [0.3333333333333333, \"#9c179e\"], [0.4444444444444444, \"#bd3786\"], [0.5555555555555556, \"#d8576b\"], [0.6666666666666666, \"#ed7953\"], [0.7777777777777778, \"#fb9f3a\"], [0.8888888888888888, \"#fdca26\"], [1.0, \"#f0f921\"]], \"type\": \"histogram2dcontour\"}], \"mesh3d\": [{\"colorbar\": {\"outlinewidth\": 0, \"ticks\": \"\"}, \"type\": \"mesh3d\"}], \"parcoords\": [{\"line\": {\"colorbar\": {\"outlinewidth\": 0, \"ticks\": \"\"}}, \"type\": \"parcoords\"}], \"pie\": [{\"automargin\": true, \"type\": \"pie\"}], \"scatter\": [{\"marker\": {\"colorbar\": {\"outlinewidth\": 0, \"ticks\": \"\"}}, \"type\": \"scatter\"}], \"scatter3d\": [{\"line\": {\"colorbar\": {\"outlinewidth\": 0, \"ticks\": \"\"}}, \"marker\": {\"colorbar\": {\"outlinewidth\": 0, \"ticks\": \"\"}}, \"type\": \"scatter3d\"}], \"scattercarpet\": [{\"marker\": {\"colorbar\": {\"outlinewidth\": 0, \"ticks\": \"\"}}, \"type\": \"scattercarpet\"}], \"scattergeo\": [{\"marker\": {\"colorbar\": {\"outlinewidth\": 0, \"ticks\": \"\"}}, \"type\": \"scattergeo\"}], \"scattergl\": [{\"marker\": {\"colorbar\": {\"outlinewidth\": 0, \"ticks\": \"\"}}, \"type\": \"scattergl\"}], \"scattermapbox\": [{\"marker\": {\"colorbar\": {\"outlinewidth\": 0, \"ticks\": \"\"}}, \"type\": \"scattermapbox\"}], \"scatterpolar\": [{\"marker\": {\"colorbar\": {\"outlinewidth\": 0, \"ticks\": \"\"}}, \"type\": \"scatterpolar\"}], \"scatterpolargl\": [{\"marker\": {\"colorbar\": {\"outlinewidth\": 0, \"ticks\": \"\"}}, \"type\": \"scatterpolargl\"}], \"scatterternary\": [{\"marker\": {\"colorbar\": {\"outlinewidth\": 0, \"ticks\": \"\"}}, \"type\": \"scatterternary\"}], \"surface\": [{\"colorbar\": {\"outlinewidth\": 0, \"ticks\": \"\"}, \"colorscale\": [[0.0, \"#0d0887\"], [0.1111111111111111, \"#46039f\"], [0.2222222222222222, \"#7201a8\"], [0.3333333333333333, \"#9c179e\"], [0.4444444444444444, \"#bd3786\"], [0.5555555555555556, \"#d8576b\"], [0.6666666666666666, \"#ed7953\"], [0.7777777777777778, \"#fb9f3a\"], [0.8888888888888888, \"#fdca26\"], [1.0, \"#f0f921\"]], \"type\": \"surface\"}], \"table\": [{\"cells\": {\"fill\": {\"color\": \"#EBF0F8\"}, \"line\": {\"color\": \"white\"}}, \"header\": {\"fill\": {\"color\": \"#C8D4E3\"}, \"line\": {\"color\": \"white\"}}, \"type\": \"table\"}]}, \"layout\": {\"annotationdefaults\": {\"arrowcolor\": \"#2a3f5f\", \"arrowhead\": 0, \"arrowwidth\": 1}, \"coloraxis\": {\"colorbar\": {\"outlinewidth\": 0, \"ticks\": \"\"}}, \"colorscale\": {\"diverging\": [[0, \"#8e0152\"], [0.1, \"#c51b7d\"], [0.2, \"#de77ae\"], [0.3, \"#f1b6da\"], [0.4, \"#fde0ef\"], [0.5, \"#f7f7f7\"], [0.6, \"#e6f5d0\"], [0.7, \"#b8e186\"], [0.8, \"#7fbc41\"], [0.9, \"#4d9221\"], [1, \"#276419\"]], \"sequential\": [[0.0, \"#0d0887\"], [0.1111111111111111, \"#46039f\"], [0.2222222222222222, \"#7201a8\"], [0.3333333333333333, \"#9c179e\"], [0.4444444444444444, \"#bd3786\"], [0.5555555555555556, \"#d8576b\"], [0.6666666666666666, \"#ed7953\"], [0.7777777777777778, \"#fb9f3a\"], [0.8888888888888888, \"#fdca26\"], [1.0, \"#f0f921\"]], \"sequentialminus\": [[0.0, \"#0d0887\"], [0.1111111111111111, \"#46039f\"], [0.2222222222222222, \"#7201a8\"], [0.3333333333333333, \"#9c179e\"], [0.4444444444444444, \"#bd3786\"], [0.5555555555555556, \"#d8576b\"], [0.6666666666666666, \"#ed7953\"], [0.7777777777777778, \"#fb9f3a\"], [0.8888888888888888, \"#fdca26\"], [1.0, \"#f0f921\"]]}, \"colorway\": [\"#636efa\", \"#EF553B\", \"#00cc96\", \"#ab63fa\", \"#FFA15A\", \"#19d3f3\", \"#FF6692\", \"#B6E880\", \"#FF97FF\", \"#FECB52\"], \"font\": {\"color\": \"#2a3f5f\"}, \"geo\": {\"bgcolor\": \"white\", \"lakecolor\": \"white\", \"landcolor\": \"#E5ECF6\", \"showlakes\": true, \"showland\": true, \"subunitcolor\": \"white\"}, \"hoverlabel\": {\"align\": \"left\"}, \"hovermode\": \"closest\", \"mapbox\": {\"style\": \"light\"}, \"paper_bgcolor\": \"white\", \"plot_bgcolor\": \"#E5ECF6\", \"polar\": {\"angularaxis\": {\"gridcolor\": \"white\", \"linecolor\": \"white\", \"ticks\": \"\"}, \"bgcolor\": \"#E5ECF6\", \"radialaxis\": {\"gridcolor\": \"white\", \"linecolor\": \"white\", \"ticks\": \"\"}}, \"scene\": {\"xaxis\": {\"backgroundcolor\": \"#E5ECF6\", \"gridcolor\": \"white\", \"gridwidth\": 2, \"linecolor\": \"white\", \"showbackground\": true, \"ticks\": \"\", \"zerolinecolor\": \"white\"}, \"yaxis\": {\"backgroundcolor\": \"#E5ECF6\", \"gridcolor\": \"white\", \"gridwidth\": 2, \"linecolor\": \"white\", \"showbackground\": true, \"ticks\": \"\", \"zerolinecolor\": \"white\"}, \"zaxis\": {\"backgroundcolor\": \"#E5ECF6\", \"gridcolor\": \"white\", \"gridwidth\": 2, \"linecolor\": \"white\", \"showbackground\": true, \"ticks\": \"\", \"zerolinecolor\": \"white\"}}, \"shapedefaults\": {\"line\": {\"color\": \"#2a3f5f\"}}, \"ternary\": {\"aaxis\": {\"gridcolor\": \"white\", \"linecolor\": \"white\", \"ticks\": \"\"}, \"baxis\": {\"gridcolor\": \"white\", \"linecolor\": \"white\", \"ticks\": \"\"}, \"bgcolor\": \"#E5ECF6\", \"caxis\": {\"gridcolor\": \"white\", \"linecolor\": \"white\", \"ticks\": \"\"}}, \"title\": {\"x\": 0.05}, \"xaxis\": {\"automargin\": true, \"gridcolor\": \"white\", \"linecolor\": \"white\", \"ticks\": \"\", \"title\": {\"standoff\": 15}, \"zerolinecolor\": \"white\", \"zerolinewidth\": 2}, \"yaxis\": {\"automargin\": true, \"gridcolor\": \"white\", \"linecolor\": \"white\", \"ticks\": \"\", \"title\": {\"standoff\": 15}, \"zerolinecolor\": \"white\", \"zerolinewidth\": 2}}}, \"xaxis\": {\"anchor\": \"y\", \"domain\": [0.0, 1.0]}, \"yaxis\": {\"anchor\": \"x\", \"domain\": [0.0, 1.0]}},                        {\"responsive\": true}                    ).then(function(){\n",
       "                            \n",
       "var gd = document.getElementById('2fef3a08-13ad-4dc2-9cf8-1aae8d2e1dc2');\n",
       "var x = new MutationObserver(function (mutations, observer) {{\n",
       "        var display = window.getComputedStyle(gd).display;\n",
       "        if (!display || display === 'none') {{\n",
       "            console.log([gd, 'removed!']);\n",
       "            Plotly.purge(gd);\n",
       "            observer.disconnect();\n",
       "        }}\n",
       "}});\n",
       "\n",
       "// Listen for the removal of the full notebook cells\n",
       "var notebookContainer = gd.closest('#notebook-container');\n",
       "if (notebookContainer) {{\n",
       "    x.observe(notebookContainer, {childList: true});\n",
       "}}\n",
       "\n",
       "// Listen for the clearing of the current output cell\n",
       "var outputEl = gd.closest('.output');\n",
       "if (outputEl) {{\n",
       "    x.observe(outputEl, {childList: true});\n",
       "}}\n",
       "\n",
       "                        })                };                });            </script>        </div>"
      ]
     },
     "metadata": {},
     "output_type": "display_data"
    }
   ],
   "source": [
    "plot = make_subplots(rows=1, cols=1, subplot_titles=('title1'))\n",
    "plot.add_trace(\n",
    "    go.Bar(\n",
    "        x = df_sort['index_str'], \n",
    "        y = df_sort['Transaction-fees-BTC'],\n",
    "        name='Transaction-fees-BTC'\n",
    "    )\n",
    ")\n",
    "plot.show()"
   ]
  },
  {
   "cell_type": "code",
   "execution_count": 36,
   "metadata": {},
   "outputs": [
    {
     "data": {
      "text/plain": [
       "\u001b[0;31mInit signature:\u001b[0m\n",
       "\u001b[0mgo\u001b[0m\u001b[0;34m.\u001b[0m\u001b[0mBar\u001b[0m\u001b[0;34m(\u001b[0m\u001b[0;34m\u001b[0m\n",
       "\u001b[0;34m\u001b[0m    \u001b[0marg\u001b[0m\u001b[0;34m=\u001b[0m\u001b[0;32mNone\u001b[0m\u001b[0;34m,\u001b[0m\u001b[0;34m\u001b[0m\n",
       "\u001b[0;34m\u001b[0m    \u001b[0malignmentgroup\u001b[0m\u001b[0;34m=\u001b[0m\u001b[0;32mNone\u001b[0m\u001b[0;34m,\u001b[0m\u001b[0;34m\u001b[0m\n",
       "\u001b[0;34m\u001b[0m    \u001b[0mbase\u001b[0m\u001b[0;34m=\u001b[0m\u001b[0;32mNone\u001b[0m\u001b[0;34m,\u001b[0m\u001b[0;34m\u001b[0m\n",
       "\u001b[0;34m\u001b[0m    \u001b[0mbasesrc\u001b[0m\u001b[0;34m=\u001b[0m\u001b[0;32mNone\u001b[0m\u001b[0;34m,\u001b[0m\u001b[0;34m\u001b[0m\n",
       "\u001b[0;34m\u001b[0m    \u001b[0mcliponaxis\u001b[0m\u001b[0;34m=\u001b[0m\u001b[0;32mNone\u001b[0m\u001b[0;34m,\u001b[0m\u001b[0;34m\u001b[0m\n",
       "\u001b[0;34m\u001b[0m    \u001b[0mconstraintext\u001b[0m\u001b[0;34m=\u001b[0m\u001b[0;32mNone\u001b[0m\u001b[0;34m,\u001b[0m\u001b[0;34m\u001b[0m\n",
       "\u001b[0;34m\u001b[0m    \u001b[0mcustomdata\u001b[0m\u001b[0;34m=\u001b[0m\u001b[0;32mNone\u001b[0m\u001b[0;34m,\u001b[0m\u001b[0;34m\u001b[0m\n",
       "\u001b[0;34m\u001b[0m    \u001b[0mcustomdatasrc\u001b[0m\u001b[0;34m=\u001b[0m\u001b[0;32mNone\u001b[0m\u001b[0;34m,\u001b[0m\u001b[0;34m\u001b[0m\n",
       "\u001b[0;34m\u001b[0m    \u001b[0mdx\u001b[0m\u001b[0;34m=\u001b[0m\u001b[0;32mNone\u001b[0m\u001b[0;34m,\u001b[0m\u001b[0;34m\u001b[0m\n",
       "\u001b[0;34m\u001b[0m    \u001b[0mdy\u001b[0m\u001b[0;34m=\u001b[0m\u001b[0;32mNone\u001b[0m\u001b[0;34m,\u001b[0m\u001b[0;34m\u001b[0m\n",
       "\u001b[0;34m\u001b[0m    \u001b[0merror_x\u001b[0m\u001b[0;34m=\u001b[0m\u001b[0;32mNone\u001b[0m\u001b[0;34m,\u001b[0m\u001b[0;34m\u001b[0m\n",
       "\u001b[0;34m\u001b[0m    \u001b[0merror_y\u001b[0m\u001b[0;34m=\u001b[0m\u001b[0;32mNone\u001b[0m\u001b[0;34m,\u001b[0m\u001b[0;34m\u001b[0m\n",
       "\u001b[0;34m\u001b[0m    \u001b[0mhoverinfo\u001b[0m\u001b[0;34m=\u001b[0m\u001b[0;32mNone\u001b[0m\u001b[0;34m,\u001b[0m\u001b[0;34m\u001b[0m\n",
       "\u001b[0;34m\u001b[0m    \u001b[0mhoverinfosrc\u001b[0m\u001b[0;34m=\u001b[0m\u001b[0;32mNone\u001b[0m\u001b[0;34m,\u001b[0m\u001b[0;34m\u001b[0m\n",
       "\u001b[0;34m\u001b[0m    \u001b[0mhoverlabel\u001b[0m\u001b[0;34m=\u001b[0m\u001b[0;32mNone\u001b[0m\u001b[0;34m,\u001b[0m\u001b[0;34m\u001b[0m\n",
       "\u001b[0;34m\u001b[0m    \u001b[0mhovertemplate\u001b[0m\u001b[0;34m=\u001b[0m\u001b[0;32mNone\u001b[0m\u001b[0;34m,\u001b[0m\u001b[0;34m\u001b[0m\n",
       "\u001b[0;34m\u001b[0m    \u001b[0mhovertemplatesrc\u001b[0m\u001b[0;34m=\u001b[0m\u001b[0;32mNone\u001b[0m\u001b[0;34m,\u001b[0m\u001b[0;34m\u001b[0m\n",
       "\u001b[0;34m\u001b[0m    \u001b[0mhovertext\u001b[0m\u001b[0;34m=\u001b[0m\u001b[0;32mNone\u001b[0m\u001b[0;34m,\u001b[0m\u001b[0;34m\u001b[0m\n",
       "\u001b[0;34m\u001b[0m    \u001b[0mhovertextsrc\u001b[0m\u001b[0;34m=\u001b[0m\u001b[0;32mNone\u001b[0m\u001b[0;34m,\u001b[0m\u001b[0;34m\u001b[0m\n",
       "\u001b[0;34m\u001b[0m    \u001b[0mids\u001b[0m\u001b[0;34m=\u001b[0m\u001b[0;32mNone\u001b[0m\u001b[0;34m,\u001b[0m\u001b[0;34m\u001b[0m\n",
       "\u001b[0;34m\u001b[0m    \u001b[0midssrc\u001b[0m\u001b[0;34m=\u001b[0m\u001b[0;32mNone\u001b[0m\u001b[0;34m,\u001b[0m\u001b[0;34m\u001b[0m\n",
       "\u001b[0;34m\u001b[0m    \u001b[0minsidetextanchor\u001b[0m\u001b[0;34m=\u001b[0m\u001b[0;32mNone\u001b[0m\u001b[0;34m,\u001b[0m\u001b[0;34m\u001b[0m\n",
       "\u001b[0;34m\u001b[0m    \u001b[0minsidetextfont\u001b[0m\u001b[0;34m=\u001b[0m\u001b[0;32mNone\u001b[0m\u001b[0;34m,\u001b[0m\u001b[0;34m\u001b[0m\n",
       "\u001b[0;34m\u001b[0m    \u001b[0mlegendgroup\u001b[0m\u001b[0;34m=\u001b[0m\u001b[0;32mNone\u001b[0m\u001b[0;34m,\u001b[0m\u001b[0;34m\u001b[0m\n",
       "\u001b[0;34m\u001b[0m    \u001b[0mmarker\u001b[0m\u001b[0;34m=\u001b[0m\u001b[0;32mNone\u001b[0m\u001b[0;34m,\u001b[0m\u001b[0;34m\u001b[0m\n",
       "\u001b[0;34m\u001b[0m    \u001b[0mmeta\u001b[0m\u001b[0;34m=\u001b[0m\u001b[0;32mNone\u001b[0m\u001b[0;34m,\u001b[0m\u001b[0;34m\u001b[0m\n",
       "\u001b[0;34m\u001b[0m    \u001b[0mmetasrc\u001b[0m\u001b[0;34m=\u001b[0m\u001b[0;32mNone\u001b[0m\u001b[0;34m,\u001b[0m\u001b[0;34m\u001b[0m\n",
       "\u001b[0;34m\u001b[0m    \u001b[0mname\u001b[0m\u001b[0;34m=\u001b[0m\u001b[0;32mNone\u001b[0m\u001b[0;34m,\u001b[0m\u001b[0;34m\u001b[0m\n",
       "\u001b[0;34m\u001b[0m    \u001b[0moffset\u001b[0m\u001b[0;34m=\u001b[0m\u001b[0;32mNone\u001b[0m\u001b[0;34m,\u001b[0m\u001b[0;34m\u001b[0m\n",
       "\u001b[0;34m\u001b[0m    \u001b[0moffsetgroup\u001b[0m\u001b[0;34m=\u001b[0m\u001b[0;32mNone\u001b[0m\u001b[0;34m,\u001b[0m\u001b[0;34m\u001b[0m\n",
       "\u001b[0;34m\u001b[0m    \u001b[0moffsetsrc\u001b[0m\u001b[0;34m=\u001b[0m\u001b[0;32mNone\u001b[0m\u001b[0;34m,\u001b[0m\u001b[0;34m\u001b[0m\n",
       "\u001b[0;34m\u001b[0m    \u001b[0mopacity\u001b[0m\u001b[0;34m=\u001b[0m\u001b[0;32mNone\u001b[0m\u001b[0;34m,\u001b[0m\u001b[0;34m\u001b[0m\n",
       "\u001b[0;34m\u001b[0m    \u001b[0morientation\u001b[0m\u001b[0;34m=\u001b[0m\u001b[0;32mNone\u001b[0m\u001b[0;34m,\u001b[0m\u001b[0;34m\u001b[0m\n",
       "\u001b[0;34m\u001b[0m    \u001b[0moutsidetextfont\u001b[0m\u001b[0;34m=\u001b[0m\u001b[0;32mNone\u001b[0m\u001b[0;34m,\u001b[0m\u001b[0;34m\u001b[0m\n",
       "\u001b[0;34m\u001b[0m    \u001b[0mr\u001b[0m\u001b[0;34m=\u001b[0m\u001b[0;32mNone\u001b[0m\u001b[0;34m,\u001b[0m\u001b[0;34m\u001b[0m\n",
       "\u001b[0;34m\u001b[0m    \u001b[0mrsrc\u001b[0m\u001b[0;34m=\u001b[0m\u001b[0;32mNone\u001b[0m\u001b[0;34m,\u001b[0m\u001b[0;34m\u001b[0m\n",
       "\u001b[0;34m\u001b[0m    \u001b[0mselected\u001b[0m\u001b[0;34m=\u001b[0m\u001b[0;32mNone\u001b[0m\u001b[0;34m,\u001b[0m\u001b[0;34m\u001b[0m\n",
       "\u001b[0;34m\u001b[0m    \u001b[0mselectedpoints\u001b[0m\u001b[0;34m=\u001b[0m\u001b[0;32mNone\u001b[0m\u001b[0;34m,\u001b[0m\u001b[0;34m\u001b[0m\n",
       "\u001b[0;34m\u001b[0m    \u001b[0mshowlegend\u001b[0m\u001b[0;34m=\u001b[0m\u001b[0;32mNone\u001b[0m\u001b[0;34m,\u001b[0m\u001b[0;34m\u001b[0m\n",
       "\u001b[0;34m\u001b[0m    \u001b[0mstream\u001b[0m\u001b[0;34m=\u001b[0m\u001b[0;32mNone\u001b[0m\u001b[0;34m,\u001b[0m\u001b[0;34m\u001b[0m\n",
       "\u001b[0;34m\u001b[0m    \u001b[0mt\u001b[0m\u001b[0;34m=\u001b[0m\u001b[0;32mNone\u001b[0m\u001b[0;34m,\u001b[0m\u001b[0;34m\u001b[0m\n",
       "\u001b[0;34m\u001b[0m    \u001b[0mtext\u001b[0m\u001b[0;34m=\u001b[0m\u001b[0;32mNone\u001b[0m\u001b[0;34m,\u001b[0m\u001b[0;34m\u001b[0m\n",
       "\u001b[0;34m\u001b[0m    \u001b[0mtextangle\u001b[0m\u001b[0;34m=\u001b[0m\u001b[0;32mNone\u001b[0m\u001b[0;34m,\u001b[0m\u001b[0;34m\u001b[0m\n",
       "\u001b[0;34m\u001b[0m    \u001b[0mtextfont\u001b[0m\u001b[0;34m=\u001b[0m\u001b[0;32mNone\u001b[0m\u001b[0;34m,\u001b[0m\u001b[0;34m\u001b[0m\n",
       "\u001b[0;34m\u001b[0m    \u001b[0mtextposition\u001b[0m\u001b[0;34m=\u001b[0m\u001b[0;32mNone\u001b[0m\u001b[0;34m,\u001b[0m\u001b[0;34m\u001b[0m\n",
       "\u001b[0;34m\u001b[0m    \u001b[0mtextpositionsrc\u001b[0m\u001b[0;34m=\u001b[0m\u001b[0;32mNone\u001b[0m\u001b[0;34m,\u001b[0m\u001b[0;34m\u001b[0m\n",
       "\u001b[0;34m\u001b[0m    \u001b[0mtextsrc\u001b[0m\u001b[0;34m=\u001b[0m\u001b[0;32mNone\u001b[0m\u001b[0;34m,\u001b[0m\u001b[0;34m\u001b[0m\n",
       "\u001b[0;34m\u001b[0m    \u001b[0mtexttemplate\u001b[0m\u001b[0;34m=\u001b[0m\u001b[0;32mNone\u001b[0m\u001b[0;34m,\u001b[0m\u001b[0;34m\u001b[0m\n",
       "\u001b[0;34m\u001b[0m    \u001b[0mtexttemplatesrc\u001b[0m\u001b[0;34m=\u001b[0m\u001b[0;32mNone\u001b[0m\u001b[0;34m,\u001b[0m\u001b[0;34m\u001b[0m\n",
       "\u001b[0;34m\u001b[0m    \u001b[0mtsrc\u001b[0m\u001b[0;34m=\u001b[0m\u001b[0;32mNone\u001b[0m\u001b[0;34m,\u001b[0m\u001b[0;34m\u001b[0m\n",
       "\u001b[0;34m\u001b[0m    \u001b[0muid\u001b[0m\u001b[0;34m=\u001b[0m\u001b[0;32mNone\u001b[0m\u001b[0;34m,\u001b[0m\u001b[0;34m\u001b[0m\n",
       "\u001b[0;34m\u001b[0m    \u001b[0muirevision\u001b[0m\u001b[0;34m=\u001b[0m\u001b[0;32mNone\u001b[0m\u001b[0;34m,\u001b[0m\u001b[0;34m\u001b[0m\n",
       "\u001b[0;34m\u001b[0m    \u001b[0munselected\u001b[0m\u001b[0;34m=\u001b[0m\u001b[0;32mNone\u001b[0m\u001b[0;34m,\u001b[0m\u001b[0;34m\u001b[0m\n",
       "\u001b[0;34m\u001b[0m    \u001b[0mvisible\u001b[0m\u001b[0;34m=\u001b[0m\u001b[0;32mNone\u001b[0m\u001b[0;34m,\u001b[0m\u001b[0;34m\u001b[0m\n",
       "\u001b[0;34m\u001b[0m    \u001b[0mwidth\u001b[0m\u001b[0;34m=\u001b[0m\u001b[0;32mNone\u001b[0m\u001b[0;34m,\u001b[0m\u001b[0;34m\u001b[0m\n",
       "\u001b[0;34m\u001b[0m    \u001b[0mwidthsrc\u001b[0m\u001b[0;34m=\u001b[0m\u001b[0;32mNone\u001b[0m\u001b[0;34m,\u001b[0m\u001b[0;34m\u001b[0m\n",
       "\u001b[0;34m\u001b[0m    \u001b[0mx\u001b[0m\u001b[0;34m=\u001b[0m\u001b[0;32mNone\u001b[0m\u001b[0;34m,\u001b[0m\u001b[0;34m\u001b[0m\n",
       "\u001b[0;34m\u001b[0m    \u001b[0mx0\u001b[0m\u001b[0;34m=\u001b[0m\u001b[0;32mNone\u001b[0m\u001b[0;34m,\u001b[0m\u001b[0;34m\u001b[0m\n",
       "\u001b[0;34m\u001b[0m    \u001b[0mxaxis\u001b[0m\u001b[0;34m=\u001b[0m\u001b[0;32mNone\u001b[0m\u001b[0;34m,\u001b[0m\u001b[0;34m\u001b[0m\n",
       "\u001b[0;34m\u001b[0m    \u001b[0mxcalendar\u001b[0m\u001b[0;34m=\u001b[0m\u001b[0;32mNone\u001b[0m\u001b[0;34m,\u001b[0m\u001b[0;34m\u001b[0m\n",
       "\u001b[0;34m\u001b[0m    \u001b[0mxperiod\u001b[0m\u001b[0;34m=\u001b[0m\u001b[0;32mNone\u001b[0m\u001b[0;34m,\u001b[0m\u001b[0;34m\u001b[0m\n",
       "\u001b[0;34m\u001b[0m    \u001b[0mxperiod0\u001b[0m\u001b[0;34m=\u001b[0m\u001b[0;32mNone\u001b[0m\u001b[0;34m,\u001b[0m\u001b[0;34m\u001b[0m\n",
       "\u001b[0;34m\u001b[0m    \u001b[0mxperiodalignment\u001b[0m\u001b[0;34m=\u001b[0m\u001b[0;32mNone\u001b[0m\u001b[0;34m,\u001b[0m\u001b[0;34m\u001b[0m\n",
       "\u001b[0;34m\u001b[0m    \u001b[0mxsrc\u001b[0m\u001b[0;34m=\u001b[0m\u001b[0;32mNone\u001b[0m\u001b[0;34m,\u001b[0m\u001b[0;34m\u001b[0m\n",
       "\u001b[0;34m\u001b[0m    \u001b[0my\u001b[0m\u001b[0;34m=\u001b[0m\u001b[0;32mNone\u001b[0m\u001b[0;34m,\u001b[0m\u001b[0;34m\u001b[0m\n",
       "\u001b[0;34m\u001b[0m    \u001b[0my0\u001b[0m\u001b[0;34m=\u001b[0m\u001b[0;32mNone\u001b[0m\u001b[0;34m,\u001b[0m\u001b[0;34m\u001b[0m\n",
       "\u001b[0;34m\u001b[0m    \u001b[0myaxis\u001b[0m\u001b[0;34m=\u001b[0m\u001b[0;32mNone\u001b[0m\u001b[0;34m,\u001b[0m\u001b[0;34m\u001b[0m\n",
       "\u001b[0;34m\u001b[0m    \u001b[0mycalendar\u001b[0m\u001b[0;34m=\u001b[0m\u001b[0;32mNone\u001b[0m\u001b[0;34m,\u001b[0m\u001b[0;34m\u001b[0m\n",
       "\u001b[0;34m\u001b[0m    \u001b[0myperiod\u001b[0m\u001b[0;34m=\u001b[0m\u001b[0;32mNone\u001b[0m\u001b[0;34m,\u001b[0m\u001b[0;34m\u001b[0m\n",
       "\u001b[0;34m\u001b[0m    \u001b[0myperiod0\u001b[0m\u001b[0;34m=\u001b[0m\u001b[0;32mNone\u001b[0m\u001b[0;34m,\u001b[0m\u001b[0;34m\u001b[0m\n",
       "\u001b[0;34m\u001b[0m    \u001b[0myperiodalignment\u001b[0m\u001b[0;34m=\u001b[0m\u001b[0;32mNone\u001b[0m\u001b[0;34m,\u001b[0m\u001b[0;34m\u001b[0m\n",
       "\u001b[0;34m\u001b[0m    \u001b[0mysrc\u001b[0m\u001b[0;34m=\u001b[0m\u001b[0;32mNone\u001b[0m\u001b[0;34m,\u001b[0m\u001b[0;34m\u001b[0m\n",
       "\u001b[0;34m\u001b[0m    \u001b[0;34m**\u001b[0m\u001b[0mkwargs\u001b[0m\u001b[0;34m,\u001b[0m\u001b[0;34m\u001b[0m\n",
       "\u001b[0;34m\u001b[0m\u001b[0;34m)\u001b[0m\u001b[0;34m\u001b[0m\u001b[0;34m\u001b[0m\u001b[0m\n",
       "\u001b[0;31mDocstring:\u001b[0m     \n",
       "Base class for the all trace types.\n",
       "\n",
       "Specific trace type classes (Scatter, Bar, etc.) are code generated as\n",
       "subclasses of this class.\n",
       "\u001b[0;31mInit docstring:\u001b[0m\n",
       "Construct a new Bar object\n",
       "\n",
       "The data visualized by the span of the bars is set in `y` if\n",
       "`orientation` is set th \"v\" (the default) and the labels are\n",
       "set in `x`. By setting `orientation` to \"h\", the roles are\n",
       "interchanged.\n",
       "\n",
       "Parameters\n",
       "----------\n",
       "arg\n",
       "    dict of properties compatible with this constructor or\n",
       "    an instance of :class:`plotly.graph_objs.Bar`\n",
       "alignmentgroup\n",
       "    Set several traces linked to the same position axis or\n",
       "    matching axes to the same alignmentgroup. This controls\n",
       "    whether bars compute their positional range dependently\n",
       "    or independently.\n",
       "base\n",
       "    Sets where the bar base is drawn (in position axis\n",
       "    units). In \"stack\" or \"relative\" barmode, traces that\n",
       "    set \"base\" will be excluded and drawn in \"overlay\" mode\n",
       "    instead.\n",
       "basesrc\n",
       "    Sets the source reference on Chart Studio Cloud for\n",
       "    base .\n",
       "cliponaxis\n",
       "    Determines whether the text nodes are clipped about the\n",
       "    subplot axes. To show the text nodes above axis lines\n",
       "    and tick labels, make sure to set `xaxis.layer` and\n",
       "    `yaxis.layer` to *below traces*.\n",
       "constraintext\n",
       "    Constrain the size of text inside or outside a bar to\n",
       "    be no larger than the bar itself.\n",
       "customdata\n",
       "    Assigns extra data each datum. This may be useful when\n",
       "    listening to hover, click and selection events. Note\n",
       "    that, \"scatter\" traces also appends customdata items in\n",
       "    the markers DOM elements\n",
       "customdatasrc\n",
       "    Sets the source reference on Chart Studio Cloud for\n",
       "    customdata .\n",
       "dx\n",
       "    Sets the x coordinate step. See `x0` for more info.\n",
       "dy\n",
       "    Sets the y coordinate step. See `y0` for more info.\n",
       "error_x\n",
       "    :class:`plotly.graph_objects.bar.ErrorX` instance or\n",
       "    dict with compatible properties\n",
       "error_y\n",
       "    :class:`plotly.graph_objects.bar.ErrorY` instance or\n",
       "    dict with compatible properties\n",
       "hoverinfo\n",
       "    Determines which trace information appear on hover. If\n",
       "    `none` or `skip` are set, no information is displayed\n",
       "    upon hovering. But, if `none` is set, click and hover\n",
       "    events are still fired.\n",
       "hoverinfosrc\n",
       "    Sets the source reference on Chart Studio Cloud for\n",
       "    hoverinfo .\n",
       "hoverlabel\n",
       "    :class:`plotly.graph_objects.bar.Hoverlabel` instance\n",
       "    or dict with compatible properties\n",
       "hovertemplate\n",
       "    Template string used for rendering the information that\n",
       "    appear on hover box. Note that this will override\n",
       "    `hoverinfo`. Variables are inserted using %{variable},\n",
       "    for example \"y: %{y}\". Numbers are formatted using\n",
       "    d3-format's syntax %{variable:d3-format}, for example\n",
       "    \"Price: %{y:$.2f}\". https://github.com/d3/d3-3.x-api-\n",
       "    reference/blob/master/Formatting.md#d3_format for\n",
       "    details on the formatting syntax. Dates are formatted\n",
       "    using d3-time-format's syntax %{variable|d3-time-\n",
       "    format}, for example \"Day: %{2019-01-01|%A}\".\n",
       "    https://github.com/d3/d3-time-format#locale_format for\n",
       "    details on the date formatting syntax. The variables\n",
       "    available in `hovertemplate` are the ones emitted as\n",
       "    event data described at this link\n",
       "    https://plotly.com/javascript/plotlyjs-events/#event-\n",
       "    data. Additionally, every attributes that can be\n",
       "    specified per-point (the ones that are `arrayOk: true`)\n",
       "    are available. variables `value` and `label`. Anything\n",
       "    contained in tag `<extra>` is displayed in the\n",
       "    secondary box, for example\n",
       "    \"<extra>{fullData.name}</extra>\". To hide the secondary\n",
       "    box completely, use an empty tag `<extra></extra>`.\n",
       "hovertemplatesrc\n",
       "    Sets the source reference on Chart Studio Cloud for\n",
       "    hovertemplate .\n",
       "hovertext\n",
       "    Sets hover text elements associated with each (x,y)\n",
       "    pair. If a single string, the same string appears over\n",
       "    all the data points. If an array of string, the items\n",
       "    are mapped in order to the this trace's (x,y)\n",
       "    coordinates. To be seen, trace `hoverinfo` must contain\n",
       "    a \"text\" flag.\n",
       "hovertextsrc\n",
       "    Sets the source reference on Chart Studio Cloud for\n",
       "    hovertext .\n",
       "ids\n",
       "    Assigns id labels to each datum. These ids for object\n",
       "    constancy of data points during animation. Should be an\n",
       "    array of strings, not numbers or any other type.\n",
       "idssrc\n",
       "    Sets the source reference on Chart Studio Cloud for\n",
       "    ids .\n",
       "insidetextanchor\n",
       "    Determines if texts are kept at center or start/end\n",
       "    points in `textposition` \"inside\" mode.\n",
       "insidetextfont\n",
       "    Sets the font used for `text` lying inside the bar.\n",
       "legendgroup\n",
       "    Sets the legend group for this trace. Traces part of\n",
       "    the same legend group hide/show at the same time when\n",
       "    toggling legend items.\n",
       "marker\n",
       "    :class:`plotly.graph_objects.bar.Marker` instance or\n",
       "    dict with compatible properties\n",
       "meta\n",
       "    Assigns extra meta information associated with this\n",
       "    trace that can be used in various text attributes.\n",
       "    Attributes such as trace `name`, graph, axis and\n",
       "    colorbar `title.text`, annotation `text`\n",
       "    `rangeselector`, `updatemenues` and `sliders` `label`\n",
       "    text all support `meta`. To access the trace `meta`\n",
       "    values in an attribute in the same trace, simply use\n",
       "    `%{meta[i]}` where `i` is the index or key of the\n",
       "    `meta` item in question. To access trace `meta` in\n",
       "    layout attributes, use `%{data[n[.meta[i]}` where `i`\n",
       "    is the index or key of the `meta` and `n` is the trace\n",
       "    index.\n",
       "metasrc\n",
       "    Sets the source reference on Chart Studio Cloud for\n",
       "    meta .\n",
       "name\n",
       "    Sets the trace name. The trace name appear as the\n",
       "    legend item and on hover.\n",
       "offset\n",
       "    Shifts the position where the bar is drawn (in position\n",
       "    axis units). In \"group\" barmode, traces that set\n",
       "    \"offset\" will be excluded and drawn in \"overlay\" mode\n",
       "    instead.\n",
       "offsetgroup\n",
       "    Set several traces linked to the same position axis or\n",
       "    matching axes to the same offsetgroup where bars of the\n",
       "    same position coordinate will line up.\n",
       "offsetsrc\n",
       "    Sets the source reference on Chart Studio Cloud for\n",
       "    offset .\n",
       "opacity\n",
       "    Sets the opacity of the trace.\n",
       "orientation\n",
       "    Sets the orientation of the bars. With \"v\" (\"h\"), the\n",
       "    value of the each bar spans along the vertical\n",
       "    (horizontal).\n",
       "outsidetextfont\n",
       "    Sets the font used for `text` lying outside the bar.\n",
       "r\n",
       "    r coordinates in scatter traces are deprecated!Please\n",
       "    switch to the \"scatterpolar\" trace type.Sets the radial\n",
       "    coordinatesfor legacy polar chart only.\n",
       "rsrc\n",
       "    Sets the source reference on Chart Studio Cloud for  r\n",
       "    .\n",
       "selected\n",
       "    :class:`plotly.graph_objects.bar.Selected` instance or\n",
       "    dict with compatible properties\n",
       "selectedpoints\n",
       "    Array containing integer indices of selected points.\n",
       "    Has an effect only for traces that support selections.\n",
       "    Note that an empty array means an empty selection where\n",
       "    the `unselected` are turned on for all points, whereas,\n",
       "    any other non-array values means no selection all where\n",
       "    the `selected` and `unselected` styles have no effect.\n",
       "showlegend\n",
       "    Determines whether or not an item corresponding to this\n",
       "    trace is shown in the legend.\n",
       "stream\n",
       "    :class:`plotly.graph_objects.bar.Stream` instance or\n",
       "    dict with compatible properties\n",
       "t\n",
       "    t coordinates in scatter traces are deprecated!Please\n",
       "    switch to the \"scatterpolar\" trace type.Sets the\n",
       "    angular coordinatesfor legacy polar chart only.\n",
       "text\n",
       "    Sets text elements associated with each (x,y) pair. If\n",
       "    a single string, the same string appears over all the\n",
       "    data points. If an array of string, the items are\n",
       "    mapped in order to the this trace's (x,y) coordinates.\n",
       "    If trace `hoverinfo` contains a \"text\" flag and\n",
       "    \"hovertext\" is not set, these elements will be seen in\n",
       "    the hover labels.\n",
       "textangle\n",
       "    Sets the angle of the tick labels with respect to the\n",
       "    bar. For example, a `tickangle` of -90 draws the tick\n",
       "    labels vertically. With \"auto\" the texts may\n",
       "    automatically be rotated to fit with the maximum size\n",
       "    in bars.\n",
       "textfont\n",
       "    Sets the font used for `text`.\n",
       "textposition\n",
       "    Specifies the location of the `text`. \"inside\"\n",
       "    positions `text` inside, next to the bar end (rotated\n",
       "    and scaled if needed). \"outside\" positions `text`\n",
       "    outside, next to the bar end (scaled if needed), unless\n",
       "    there is another bar stacked on this one, then the text\n",
       "    gets pushed inside. \"auto\" tries to position `text`\n",
       "    inside the bar, but if the bar is too small and no bar\n",
       "    is stacked on this one the text is moved outside.\n",
       "textpositionsrc\n",
       "    Sets the source reference on Chart Studio Cloud for\n",
       "    textposition .\n",
       "textsrc\n",
       "    Sets the source reference on Chart Studio Cloud for\n",
       "    text .\n",
       "texttemplate\n",
       "    Template string used for rendering the information text\n",
       "    that appear on points. Note that this will override\n",
       "    `textinfo`. Variables are inserted using %{variable},\n",
       "    for example \"y: %{y}\". Numbers are formatted using\n",
       "    d3-format's syntax %{variable:d3-format}, for example\n",
       "    \"Price: %{y:$.2f}\". https://github.com/d3/d3-3.x-api-\n",
       "    reference/blob/master/Formatting.md#d3_format for\n",
       "    details on the formatting syntax. Dates are formatted\n",
       "    using d3-time-format's syntax %{variable|d3-time-\n",
       "    format}, for example \"Day: %{2019-01-01|%A}\".\n",
       "    https://github.com/d3/d3-time-format#locale_format for\n",
       "    details on the date formatting syntax. Every attributes\n",
       "    that can be specified per-point (the ones that are\n",
       "    `arrayOk: true`) are available. variables `value` and\n",
       "    `label`.\n",
       "texttemplatesrc\n",
       "    Sets the source reference on Chart Studio Cloud for\n",
       "    texttemplate .\n",
       "tsrc\n",
       "    Sets the source reference on Chart Studio Cloud for  t\n",
       "    .\n",
       "uid\n",
       "    Assign an id to this trace, Use this to provide object\n",
       "    constancy between traces during animations and\n",
       "    transitions.\n",
       "uirevision\n",
       "    Controls persistence of some user-driven changes to the\n",
       "    trace: `constraintrange` in `parcoords` traces, as well\n",
       "    as some `editable: true` modifications such as `name`\n",
       "    and `colorbar.title`. Defaults to `layout.uirevision`.\n",
       "    Note that other user-driven trace attribute changes are\n",
       "    controlled by `layout` attributes: `trace.visible` is\n",
       "    controlled by `layout.legend.uirevision`,\n",
       "    `selectedpoints` is controlled by\n",
       "    `layout.selectionrevision`, and `colorbar.(x|y)`\n",
       "    (accessible with `config: {editable: true}`) is\n",
       "    controlled by `layout.editrevision`. Trace changes are\n",
       "    tracked by `uid`, which only falls back on trace index\n",
       "    if no `uid` is provided. So if your app can add/remove\n",
       "    traces before the end of the `data` array, such that\n",
       "    the same trace has a different index, you can still\n",
       "    preserve user-driven changes if you give each trace a\n",
       "    `uid` that stays with it as it moves.\n",
       "unselected\n",
       "    :class:`plotly.graph_objects.bar.Unselected` instance\n",
       "    or dict with compatible properties\n",
       "visible\n",
       "    Determines whether or not this trace is visible. If\n",
       "    \"legendonly\", the trace is not drawn, but can appear as\n",
       "    a legend item (provided that the legend itself is\n",
       "    visible).\n",
       "width\n",
       "    Sets the bar width (in position axis units).\n",
       "widthsrc\n",
       "    Sets the source reference on Chart Studio Cloud for\n",
       "    width .\n",
       "x\n",
       "    Sets the x coordinates.\n",
       "x0\n",
       "    Alternate to `x`. Builds a linear space of x\n",
       "    coordinates. Use with `dx` where `x0` is the starting\n",
       "    coordinate and `dx` the step.\n",
       "xaxis\n",
       "    Sets a reference between this trace's x coordinates and\n",
       "    a 2D cartesian x axis. If \"x\" (the default value), the\n",
       "    x coordinates refer to `layout.xaxis`. If \"x2\", the x\n",
       "    coordinates refer to `layout.xaxis2`, and so on.\n",
       "xcalendar\n",
       "    Sets the calendar system to use with `x` date data.\n",
       "xperiod\n",
       "    Only relevant when the axis `type` is \"date\". Sets the\n",
       "    period positioning in milliseconds or \"M<n>\" on the x\n",
       "    axis. Special values in the form of \"M<n>\" could be\n",
       "    used to declare the number of months. In this case `n`\n",
       "    must be a positive integer.\n",
       "xperiod0\n",
       "    Only relevant when the axis `type` is \"date\". Sets the\n",
       "    base for period positioning in milliseconds or date\n",
       "    string on the x0 axis. When `x0period` is round number\n",
       "    of weeks, the `x0period0` by default would be on a\n",
       "    Sunday i.e. 2000-01-02, otherwise it would be at\n",
       "    2000-01-01.\n",
       "xperiodalignment\n",
       "    Only relevant when the axis `type` is \"date\". Sets the\n",
       "    alignment of data points on the x axis.\n",
       "xsrc\n",
       "    Sets the source reference on Chart Studio Cloud for  x\n",
       "    .\n",
       "y\n",
       "    Sets the y coordinates.\n",
       "y0\n",
       "    Alternate to `y`. Builds a linear space of y\n",
       "    coordinates. Use with `dy` where `y0` is the starting\n",
       "    coordinate and `dy` the step.\n",
       "yaxis\n",
       "    Sets a reference between this trace's y coordinates and\n",
       "    a 2D cartesian y axis. If \"y\" (the default value), the\n",
       "    y coordinates refer to `layout.yaxis`. If \"y2\", the y\n",
       "    coordinates refer to `layout.yaxis2`, and so on.\n",
       "ycalendar\n",
       "    Sets the calendar system to use with `y` date data.\n",
       "yperiod\n",
       "    Only relevant when the axis `type` is \"date\". Sets the\n",
       "    period positioning in milliseconds or \"M<n>\" on the y\n",
       "    axis. Special values in the form of \"M<n>\" could be\n",
       "    used to declare the number of months. In this case `n`\n",
       "    must be a positive integer.\n",
       "yperiod0\n",
       "    Only relevant when the axis `type` is \"date\". Sets the\n",
       "    base for period positioning in milliseconds or date\n",
       "    string on the y0 axis. When `y0period` is round number\n",
       "    of weeks, the `y0period0` by default would be on a\n",
       "    Sunday i.e. 2000-01-02, otherwise it would be at\n",
       "    2000-01-01.\n",
       "yperiodalignment\n",
       "    Only relevant when the axis `type` is \"date\". Sets the\n",
       "    alignment of data points on the y axis.\n",
       "ysrc\n",
       "    Sets the source reference on Chart Studio Cloud for  y\n",
       "    .\n",
       "\n",
       "Returns\n",
       "-------\n",
       "Bar\n",
       "\u001b[0;31mFile:\u001b[0m           ~/miniconda3/envs/feature-store-ml/lib/python3.8/site-packages/plotly/graph_objs/_bar.py\n",
       "\u001b[0;31mType:\u001b[0m           type\n",
       "\u001b[0;31mSubclasses:\u001b[0m     \n"
      ]
     },
     "metadata": {},
     "output_type": "display_data"
    }
   ],
   "source": [
    "?go.Bar"
   ]
  },
  {
   "cell_type": "code",
   "execution_count": null,
   "metadata": {},
   "outputs": [],
   "source": []
  }
 ],
 "metadata": {
  "kernelspec": {
   "display_name": "Python 3",
   "language": "python",
   "name": "python3"
  },
  "language_info": {
   "codemirror_mode": {
    "name": "ipython",
    "version": 3
   },
   "file_extension": ".py",
   "mimetype": "text/x-python",
   "name": "python",
   "nbconvert_exporter": "python",
   "pygments_lexer": "ipython3",
   "version": "3.8.5"
  }
 },
 "nbformat": 4,
 "nbformat_minor": 4
}
